{
 "cells": [
  {
   "cell_type": "code",
   "execution_count": 52,
   "id": "0346caee",
   "metadata": {
    "id": "0346caee"
   },
   "outputs": [],
   "source": [
    "import numpy as np\n",
    "import pandas as pd\n",
    "import matplotlib\n",
    "import matplotlib.pyplot as plt\n",
    "%matplotlib inline\n",
    "import pickle\n",
    "from sklearn.model_selection import train_test_split\n",
    "from sklearn import linear_model, preprocessing\n",
    "from sklearn.linear_model import LinearRegression"
   ]
  },
  {
   "cell_type": "markdown",
   "id": "4703e188",
   "metadata": {
    "id": "4703e188"
   },
   "source": [
    "# 1.1"
   ]
  },
  {
   "cell_type": "code",
   "execution_count": 53,
   "id": "a33947a9",
   "metadata": {
    "colab": {
     "base_uri": "https://localhost:8080/"
    },
    "id": "a33947a9",
    "outputId": "a43f7544-3f81-41db-a3a5-66bb306133a7"
   },
   "outputs": [
    {
     "data": {
      "text/plain": [
       "(5000, 2)"
      ]
     },
     "execution_count": 53,
     "metadata": {},
     "output_type": "execute_result"
    }
   ],
   "source": [
    "datafile=open('Q1_data/data.pkl','rb')\n",
    "data=pickle.load(datafile)\n",
    "data.shape"
   ]
  },
  {
   "cell_type": "code",
   "execution_count": 54,
   "id": "102d12c0",
   "metadata": {
    "id": "102d12c0"
   },
   "outputs": [
    {
     "name": "stdout",
     "output_type": "stream",
     "text": [
      "[(450, 1), (450, 1), (450, 1), (450, 1), (450, 1), (450, 1), (450, 1), (450, 1), (450, 1), (450, 1)]\n",
      "[(450,), (450,), (450,), (450,), (450,), (450,), (450,), (450,), (450,), (450,)]\n"
     ]
    },
    {
     "data": {
      "text/plain": [
       "(500,)"
      ]
     },
     "execution_count": 54,
     "metadata": {},
     "output_type": "execute_result"
    }
   ],
   "source": [
    "x, y = data[:, :-1], data[:, -1]\n",
    "x_train, x_test, y_train, y_test = train_test_split(x, y, test_size=0.10, random_state=1)\n",
    "x_folds = np.array_split(x_train,10)\n",
    "y_folds = np.array_split(y_train,10)\n",
    "print([i.shape for i in x_folds])\n",
    "print([i.shape for i in y_folds])\n",
    "y_test.shape"
   ]
  },
  {
   "cell_type": "code",
   "execution_count": 55,
   "id": "3f2836a1",
   "metadata": {
    "colab": {
     "base_uri": "https://localhost:8080/"
    },
    "id": "3f2836a1",
    "outputId": "fd0ca196-29e7-470a-e190-0b328430bbce"
   },
   "outputs": [
    {
     "name": "stdout",
     "output_type": "stream",
     "text": [
      "[(450, 1), (450, 1), (450, 1), (450, 1), (450, 1), (450, 1), (450, 1), (450, 1), (450, 1), (450, 1)]\n"
     ]
    },
    {
     "data": {
      "text/plain": [
       "(500, 2)"
      ]
     },
     "execution_count": 55,
     "metadata": {},
     "output_type": "execute_result"
    }
   ],
   "source": [
    "for i in range(0,10):\n",
    "    y_folds[i] = y_folds[i].reshape(450,1)\n",
    "print([i.shape for i in y_folds])\n",
    "x_test = x_test.reshape(500,1)\n",
    "y_test = y_test.reshape(500,1)\n",
    "test=np.concatenate((x_test,y_test),axis=1)\n",
    "test.shape"
   ]
  },
  {
   "cell_type": "code",
   "execution_count": 56,
   "id": "4d8bb3e7",
   "metadata": {
    "id": "4d8bb3e7"
   },
   "outputs": [],
   "source": [
    "for i in range(0,10):\n",
    "  x_folds[i]=np.concatenate((x_folds[i],y_folds[i]),axis=1)"
   ]
  },
  {
   "cell_type": "code",
   "execution_count": 57,
   "id": "464726fd",
   "metadata": {},
   "outputs": [],
   "source": [
    "train_dataset=x_folds"
   ]
  },
  {
   "cell_type": "code",
   "execution_count": 58,
   "id": "6b875910",
   "metadata": {
    "colab": {
     "base_uri": "https://localhost:8080/"
    },
    "id": "6b875910",
    "outputId": "5f43b7dc-4ede-4673-f128-e4689efc7c62"
   },
   "outputs": [
    {
     "name": "stdout",
     "output_type": "stream",
     "text": [
      "[(450, 2), (450, 2), (450, 2), (450, 2), (450, 2), (450, 2), (450, 2), (450, 2), (450, 2), (450, 2)]\n"
     ]
    }
   ],
   "source": [
    "print([i.shape for i in train_dataset])"
   ]
  },
  {
   "cell_type": "markdown",
   "id": "1abadc27",
   "metadata": {
    "id": "1abadc27"
   },
   "source": [
    "# 1.2"
   ]
  },
  {
   "cell_type": "code",
   "execution_count": 59,
   "id": "82445f1c",
   "metadata": {
    "id": "82445f1c"
   },
   "outputs": [],
   "source": [
    "def poly(x,d):\n",
    "    data=x\n",
    "    if d==1:\n",
    "        return data\n",
    "    else:\n",
    "        for i in range(2,d+1):\n",
    "            x_p=x**i\n",
    "            data=np.concatenate((data,x_p),axis=1)\n",
    "        return data"
   ]
  },
  {
   "cell_type": "markdown",
   "id": "oBfj8Iry-DmQ",
   "metadata": {
    "id": "oBfj8Iry-DmQ"
   },
   "source": [
    "**use sklearn’s linear_model.LinearRegression().fit() for finding the appropriate coefficients with the default parameters**"
   ]
  },
  {
   "cell_type": "code",
   "execution_count": 60,
   "id": "d03b834e",
   "metadata": {
    "id": "d03b834e"
   },
   "outputs": [],
   "source": [
    "# creating a function to fit the data 10 times with different models\n",
    "def trainingOnAllSplits(data,degree):\n",
    "    models=[]\n",
    "    for split in data:\n",
    "        if degree ==1:\n",
    "            x=split[:,0].reshape(-1,1)\n",
    "            y=split[:,-1].reshape(-1,1)\n",
    "        else:\n",
    "            x=np.delete(split,-1,axis=1)\n",
    "            x=poly(x,degree)\n",
    "            y=split[:,-1].reshape(-1,1)\n",
    "        model=linear_model.LinearRegression().fit(x,y)\n",
    "        models.append(model)       \n",
    "    return models"
   ]
  },
  {
   "cell_type": "code",
   "execution_count": 61,
   "id": "468aa230",
   "metadata": {
    "id": "468aa230"
   },
   "outputs": [],
   "source": [
    "models=trainingOnAllSplits(train_dataset,1)\n",
    "x_test=test[:,0].reshape(-1,1)\n",
    "yTrue=test[:,1].reshape(-1,1)\n",
    "df=pd.DataFrame(yTrue,columns=['test'])\n",
    "counter=1\n",
    "for model in models:\n",
    "    yhat=model.predict(x_test)\n",
    "    name='model_'+str(counter)\n",
    "    df[name]=yhat\n",
    "    counter+=1"
   ]
  },
  {
   "cell_type": "markdown",
   "id": "h5cFNXL4-XIR",
   "metadata": {
    "id": "h5cFNXL4-XIR"
   },
   "source": [
    "**Calculating & Tabulate the values of \n",
    "bias and variance**"
   ]
  },
  {
   "cell_type": "code",
   "execution_count": 62,
   "id": "0a6bf88e",
   "metadata": {
    "colab": {
     "base_uri": "https://localhost:8080/",
     "height": 223
    },
    "id": "0a6bf88e",
    "outputId": "612a07a0-2495-4a98-e543-e6d70f57268c"
   },
   "outputs": [
    {
     "name": "stdout",
     "output_type": "stream",
     "text": [
      "(500, 12)\n"
     ]
    },
    {
     "data": {
      "text/html": [
       "<div>\n",
       "<style scoped>\n",
       "    .dataframe tbody tr th:only-of-type {\n",
       "        vertical-align: middle;\n",
       "    }\n",
       "\n",
       "    .dataframe tbody tr th {\n",
       "        vertical-align: top;\n",
       "    }\n",
       "\n",
       "    .dataframe thead th {\n",
       "        text-align: right;\n",
       "    }\n",
       "</style>\n",
       "<table border=\"1\" class=\"dataframe\">\n",
       "  <thead>\n",
       "    <tr style=\"text-align: right;\">\n",
       "      <th></th>\n",
       "      <th>test</th>\n",
       "      <th>model_1</th>\n",
       "      <th>model_2</th>\n",
       "      <th>model_3</th>\n",
       "      <th>model_4</th>\n",
       "      <th>model_5</th>\n",
       "      <th>model_6</th>\n",
       "      <th>model_7</th>\n",
       "      <th>model_8</th>\n",
       "      <th>model_9</th>\n",
       "      <th>model_10</th>\n",
       "      <th>Estimated</th>\n",
       "    </tr>\n",
       "  </thead>\n",
       "  <tbody>\n",
       "    <tr>\n",
       "      <th>0</th>\n",
       "      <td>7.085300</td>\n",
       "      <td>-2.671056</td>\n",
       "      <td>-3.009976</td>\n",
       "      <td>-3.252570</td>\n",
       "      <td>-2.629040</td>\n",
       "      <td>-2.637434</td>\n",
       "      <td>-2.683579</td>\n",
       "      <td>-2.532229</td>\n",
       "      <td>-2.239590</td>\n",
       "      <td>-2.940683</td>\n",
       "      <td>-2.780778</td>\n",
       "      <td>-2.737693</td>\n",
       "    </tr>\n",
       "    <tr>\n",
       "      <th>1</th>\n",
       "      <td>-20.898346</td>\n",
       "      <td>-11.902124</td>\n",
       "      <td>-12.558410</td>\n",
       "      <td>-12.485227</td>\n",
       "      <td>-11.804195</td>\n",
       "      <td>-11.784016</td>\n",
       "      <td>-12.317402</td>\n",
       "      <td>-12.300312</td>\n",
       "      <td>-11.136981</td>\n",
       "      <td>-12.978470</td>\n",
       "      <td>-12.239633</td>\n",
       "      <td>-12.150677</td>\n",
       "    </tr>\n",
       "    <tr>\n",
       "      <th>2</th>\n",
       "      <td>-6.981142</td>\n",
       "      <td>-7.510108</td>\n",
       "      <td>-8.015396</td>\n",
       "      <td>-8.092455</td>\n",
       "      <td>-7.438781</td>\n",
       "      <td>-7.432198</td>\n",
       "      <td>-7.733760</td>\n",
       "      <td>-7.652792</td>\n",
       "      <td>-6.903724</td>\n",
       "      <td>-8.202628</td>\n",
       "      <td>-7.739239</td>\n",
       "      <td>-7.672108</td>\n",
       "    </tr>\n",
       "    <tr>\n",
       "      <th>3</th>\n",
       "      <td>-4.125424</td>\n",
       "      <td>-6.058392</td>\n",
       "      <td>-6.513770</td>\n",
       "      <td>-6.640490</td>\n",
       "      <td>-5.995859</td>\n",
       "      <td>-5.993769</td>\n",
       "      <td>-6.218706</td>\n",
       "      <td>-6.116623</td>\n",
       "      <td>-5.504483</td>\n",
       "      <td>-6.624044</td>\n",
       "      <td>-6.251701</td>\n",
       "      <td>-6.191784</td>\n",
       "    </tr>\n",
       "    <tr>\n",
       "      <th>4</th>\n",
       "      <td>7.733223</td>\n",
       "      <td>-2.537406</td>\n",
       "      <td>-2.871731</td>\n",
       "      <td>-3.118897</td>\n",
       "      <td>-2.496199</td>\n",
       "      <td>-2.505008</td>\n",
       "      <td>-2.544098</td>\n",
       "      <td>-2.390804</td>\n",
       "      <td>-2.110771</td>\n",
       "      <td>-2.795353</td>\n",
       "      <td>-2.643830</td>\n",
       "      <td>-2.601410</td>\n",
       "    </tr>\n",
       "  </tbody>\n",
       "</table>\n",
       "</div>"
      ],
      "text/plain": [
       "        test    model_1    model_2    model_3    model_4    model_5  \\\n",
       "0   7.085300  -2.671056  -3.009976  -3.252570  -2.629040  -2.637434   \n",
       "1 -20.898346 -11.902124 -12.558410 -12.485227 -11.804195 -11.784016   \n",
       "2  -6.981142  -7.510108  -8.015396  -8.092455  -7.438781  -7.432198   \n",
       "3  -4.125424  -6.058392  -6.513770  -6.640490  -5.995859  -5.993769   \n",
       "4   7.733223  -2.537406  -2.871731  -3.118897  -2.496199  -2.505008   \n",
       "\n",
       "     model_6    model_7    model_8    model_9   model_10  Estimated  \n",
       "0  -2.683579  -2.532229  -2.239590  -2.940683  -2.780778  -2.737693  \n",
       "1 -12.317402 -12.300312 -11.136981 -12.978470 -12.239633 -12.150677  \n",
       "2  -7.733760  -7.652792  -6.903724  -8.202628  -7.739239  -7.672108  \n",
       "3  -6.218706  -6.116623  -5.504483  -6.624044  -6.251701  -6.191784  \n",
       "4  -2.544098  -2.390804  -2.110771  -2.795353  -2.643830  -2.601410  "
      ]
     },
     "execution_count": 62,
     "metadata": {},
     "output_type": "execute_result"
    }
   ],
   "source": [
    "df['Estimated']=np.mean(df.iloc[:,1:].values,axis=1)\n",
    "print(df.shape)\n",
    "df.head()"
   ]
  },
  {
   "cell_type": "code",
   "execution_count": 63,
   "id": "Ofk_RXBK7Zmd",
   "metadata": {
    "colab": {
     "base_uri": "https://localhost:8080/",
     "height": 206
    },
    "id": "Ofk_RXBK7Zmd",
    "outputId": "a023552e-434d-4729-f557-2e6718e1acee"
   },
   "outputs": [
    {
     "data": {
      "text/html": [
       "<div>\n",
       "<style scoped>\n",
       "    .dataframe tbody tr th:only-of-type {\n",
       "        vertical-align: middle;\n",
       "    }\n",
       "\n",
       "    .dataframe tbody tr th {\n",
       "        vertical-align: top;\n",
       "    }\n",
       "\n",
       "    .dataframe thead th {\n",
       "        text-align: right;\n",
       "    }\n",
       "</style>\n",
       "<table border=\"1\" class=\"dataframe\">\n",
       "  <thead>\n",
       "    <tr style=\"text-align: right;\">\n",
       "      <th></th>\n",
       "      <th>test</th>\n",
       "      <th>model_1</th>\n",
       "      <th>model_2</th>\n",
       "      <th>model_3</th>\n",
       "      <th>model_4</th>\n",
       "      <th>model_5</th>\n",
       "      <th>model_6</th>\n",
       "      <th>model_7</th>\n",
       "      <th>model_8</th>\n",
       "      <th>model_9</th>\n",
       "      <th>model_10</th>\n",
       "      <th>Estimated</th>\n",
       "      <th>Bias</th>\n",
       "    </tr>\n",
       "  </thead>\n",
       "  <tbody>\n",
       "    <tr>\n",
       "      <th>0</th>\n",
       "      <td>7.085300</td>\n",
       "      <td>-2.671056</td>\n",
       "      <td>-3.009976</td>\n",
       "      <td>-3.252570</td>\n",
       "      <td>-2.629040</td>\n",
       "      <td>-2.637434</td>\n",
       "      <td>-2.683579</td>\n",
       "      <td>-2.532229</td>\n",
       "      <td>-2.239590</td>\n",
       "      <td>-2.940683</td>\n",
       "      <td>-2.780778</td>\n",
       "      <td>-2.737693</td>\n",
       "      <td>96.491209</td>\n",
       "    </tr>\n",
       "    <tr>\n",
       "      <th>1</th>\n",
       "      <td>-20.898346</td>\n",
       "      <td>-11.902124</td>\n",
       "      <td>-12.558410</td>\n",
       "      <td>-12.485227</td>\n",
       "      <td>-11.804195</td>\n",
       "      <td>-11.784016</td>\n",
       "      <td>-12.317402</td>\n",
       "      <td>-12.300312</td>\n",
       "      <td>-11.136981</td>\n",
       "      <td>-12.978470</td>\n",
       "      <td>-12.239633</td>\n",
       "      <td>-12.150677</td>\n",
       "      <td>76.521722</td>\n",
       "    </tr>\n",
       "    <tr>\n",
       "      <th>2</th>\n",
       "      <td>-6.981142</td>\n",
       "      <td>-7.510108</td>\n",
       "      <td>-8.015396</td>\n",
       "      <td>-8.092455</td>\n",
       "      <td>-7.438781</td>\n",
       "      <td>-7.432198</td>\n",
       "      <td>-7.733760</td>\n",
       "      <td>-7.652792</td>\n",
       "      <td>-6.903724</td>\n",
       "      <td>-8.202628</td>\n",
       "      <td>-7.739239</td>\n",
       "      <td>-7.672108</td>\n",
       "      <td>0.477434</td>\n",
       "    </tr>\n",
       "    <tr>\n",
       "      <th>3</th>\n",
       "      <td>-4.125424</td>\n",
       "      <td>-6.058392</td>\n",
       "      <td>-6.513770</td>\n",
       "      <td>-6.640490</td>\n",
       "      <td>-5.995859</td>\n",
       "      <td>-5.993769</td>\n",
       "      <td>-6.218706</td>\n",
       "      <td>-6.116623</td>\n",
       "      <td>-5.504483</td>\n",
       "      <td>-6.624044</td>\n",
       "      <td>-6.251701</td>\n",
       "      <td>-6.191784</td>\n",
       "      <td>4.269844</td>\n",
       "    </tr>\n",
       "    <tr>\n",
       "      <th>4</th>\n",
       "      <td>7.733223</td>\n",
       "      <td>-2.537406</td>\n",
       "      <td>-2.871731</td>\n",
       "      <td>-3.118897</td>\n",
       "      <td>-2.496199</td>\n",
       "      <td>-2.505008</td>\n",
       "      <td>-2.544098</td>\n",
       "      <td>-2.390804</td>\n",
       "      <td>-2.110771</td>\n",
       "      <td>-2.795353</td>\n",
       "      <td>-2.643830</td>\n",
       "      <td>-2.601410</td>\n",
       "      <td>106.804635</td>\n",
       "    </tr>\n",
       "  </tbody>\n",
       "</table>\n",
       "</div>"
      ],
      "text/plain": [
       "        test    model_1    model_2    model_3    model_4    model_5  \\\n",
       "0   7.085300  -2.671056  -3.009976  -3.252570  -2.629040  -2.637434   \n",
       "1 -20.898346 -11.902124 -12.558410 -12.485227 -11.804195 -11.784016   \n",
       "2  -6.981142  -7.510108  -8.015396  -8.092455  -7.438781  -7.432198   \n",
       "3  -4.125424  -6.058392  -6.513770  -6.640490  -5.995859  -5.993769   \n",
       "4   7.733223  -2.537406  -2.871731  -3.118897  -2.496199  -2.505008   \n",
       "\n",
       "     model_6    model_7    model_8    model_9   model_10  Estimated  \\\n",
       "0  -2.683579  -2.532229  -2.239590  -2.940683  -2.780778  -2.737693   \n",
       "1 -12.317402 -12.300312 -11.136981 -12.978470 -12.239633 -12.150677   \n",
       "2  -7.733760  -7.652792  -6.903724  -8.202628  -7.739239  -7.672108   \n",
       "3  -6.218706  -6.116623  -5.504483  -6.624044  -6.251701  -6.191784   \n",
       "4  -2.544098  -2.390804  -2.110771  -2.795353  -2.643830  -2.601410   \n",
       "\n",
       "         Bias  \n",
       "0   96.491209  \n",
       "1   76.521722  \n",
       "2    0.477434  \n",
       "3    4.269844  \n",
       "4  106.804635  "
      ]
     },
     "execution_count": 63,
     "metadata": {},
     "output_type": "execute_result"
    }
   ],
   "source": [
    "df['Bias']=(df['Estimated']-df['test'])**2\n",
    "df.head()"
   ]
  },
  {
   "cell_type": "code",
   "execution_count": 64,
   "id": "SiyNPv16GWyP",
   "metadata": {
    "colab": {
     "base_uri": "https://localhost:8080/"
    },
    "id": "SiyNPv16GWyP",
    "outputId": "9a71b9b0-fa30-43b1-b837-9b490be72b2d"
   },
   "outputs": [
    {
     "name": "stdout",
     "output_type": "stream",
     "text": [
      "The bias of the model : 5.513059535722157\n",
      "The variance of the model : 0.11781878190889884\n"
     ]
    }
   ],
   "source": [
    "bias=(df['Bias'].mean())**(0.5)\n",
    "print('The bias of the model :',bias)\n",
    "variance=((df.iloc[:,1:-2].values-df['Estimated'].values.reshape(500,1))**2).sum()/df.iloc[:,1:-2].size\n",
    "print('The variance of the model :',variance)"
   ]
  },
  {
   "cell_type": "markdown",
   "id": "zbOe5aYLLw-R",
   "metadata": {
    "id": "zbOe5aYLLw-R"
   },
   "source": [
    "**Detailed report explaining how bias \n",
    "and variance changes as function classes varies**"
   ]
  },
  {
   "cell_type": "code",
   "execution_count": 65,
   "id": "5d2Ku9xzL5jI",
   "metadata": {
    "id": "5d2Ku9xzL5jI"
   },
   "outputs": [],
   "source": [
    "def experiment(datasets,test,degree):\n",
    "    models=trainingOnAllSplits(datasets,degree)\n",
    "    if degree==1:\n",
    "        x_test=np.delete(test,-1,axis=1).reshape(-1,1)\n",
    "    else:\n",
    "        x_test=poly(np.delete(test,-1,axis=1).reshape(-1,1),degree)\n",
    "    yTrue=test[:,1].reshape(-1,1)\n",
    "    df=pd.DataFrame(yTrue,columns=['test'])\n",
    "    \n",
    "    \n",
    "    counter=1\n",
    "    for model in models:\n",
    "        yhat=model.predict(x_test)\n",
    "        name='model_'+str(counter)\n",
    "        df[name]=yhat\n",
    "        counter+=1\n",
    "    df['Estimated']=np.mean(df.iloc[:,1:].values,axis=1)\n",
    "    df['Bias']=(df['Estimated']-df['test'])**2\n",
    "    bias=(df['Bias'].mean())**(0.5)\n",
    "    variance=((df.iloc[:,1:-2].values-df['Estimated'].values.reshape(500,1))**2).sum()/df.iloc[:,1:-2].size\n",
    "    mse=np.mean((yhat-yTrue)**2)\n",
    "    return bias,variance,mse"
   ]
  },
  {
   "cell_type": "code",
   "execution_count": 66,
   "id": "ZZT73QcuOS5f",
   "metadata": {
    "id": "ZZT73QcuOS5f"
   },
   "outputs": [],
   "source": [
    "biases=[]\n",
    "variances=[]\n",
    "mses=[]\n",
    "for i in range(1,10):\n",
    "    bias,variance,mse=experiment(train_dataset,test,i)\n",
    "    biases.append(bias)\n",
    "    variances.append(variance)"
   ]
  },
  {
   "cell_type": "code",
   "execution_count": 67,
   "id": "OeTAu1M9Onva",
   "metadata": {
    "colab": {
     "base_uri": "https://localhost:8080/",
     "height": 606
    },
    "id": "OeTAu1M9Onva",
    "outputId": "abfa5fa5-273c-41b9-8d9e-b8dfb088e9f8"
   },
   "outputs": [
    {
     "data": {
      "image/png": "[encoded data removed]",
      "text/plain": [
       "<Figure size 1000x1000 with 1 Axes>"
      ]
     },
     "metadata": {},
     "output_type": "display_data"
    }
   ],
   "source": [
    "degrees=list(range(1,10))\n",
    "plt.figure(figsize=(10,10))\n",
    "plt.plot(degrees,biases)\n",
    "plt.plot(degrees,variances)\n",
    "plt.xlabel('Degrees')\n",
    "plt.ylabel('Error')\n",
    "plt.legend(['Bias','Variance'])\n",
    "plt.grid();"
   ]
  },
  {
   "cell_type": "markdown",
   "id": "HTp2XuFWWJRy",
   "metadata": {
    "id": "HTp2XuFWWJRy"
   },
   "source": [
    "# Report\n",
    "**the bias keep decreasing as model complexity increase but it still relatively high so i think we can keep increasing the model complexity becasue the the variance still low and bias still high which mean it still underfit**"
   ]
  },
  {
   "cell_type": "markdown",
   "id": "epJc3e8Rbhzq",
   "metadata": {
    "id": "epJc3e8Rbhzq"
   },
   "source": [
    "# 2"
   ]
  },
  {
   "cell_type": "code",
   "execution_count": 68,
   "id": "XQo6lZ8CbHy1",
   "metadata": {
    "colab": {
     "base_uri": "https://localhost:8080/"
    },
    "id": "XQo6lZ8CbHy1",
    "outputId": "705003f5-00ab-48c3-e532-1ad36d6ce034"
   },
   "outputs": [
    {
     "name": "stdout",
     "output_type": "stream",
     "text": [
      "(20, 400)\n",
      "(20, 400)\n",
      "(80,)\n",
      "(80,)\n"
     ]
    }
   ],
   "source": [
    "datafile1=open('Q2_data/X_train.pkl','rb')\n",
    "datafile2=open('Q2_data/Y_train.pkl','rb')\n",
    "datafile3=open('Q2_data/X_test.pkl','rb')\n",
    "datafile4=open('Q2_data/Fx_test.pkl','rb')\n",
    "x_train=pickle.load(datafile1)\n",
    "y_train=pickle.load(datafile2)\n",
    "x_test=pickle.load(datafile3)\n",
    "y_test=pickle.load(datafile4)\n",
    "print(x_train.shape)\n",
    "print(y_train.shape)\n",
    "print(x_test.shape)\n",
    "print(y_test.shape)"
   ]
  },
  {
   "cell_type": "code",
   "execution_count": 69,
   "id": "bptT44m6VCVo",
   "metadata": {
    "colab": {
     "base_uri": "https://localhost:8080/"
    },
    "id": "bptT44m6VCVo",
    "outputId": "699f6d2d-9e7a-4df0-9d74-5a0dff481d81"
   },
   "outputs": [
    {
     "name": "stdout",
     "output_type": "stream",
     "text": [
      "(400, 20)\n",
      "(400, 20)\n"
     ]
    }
   ],
   "source": [
    "x_train = x_train.T\n",
    "y_train = y_train.T\n",
    "print(x_train.shape)\n",
    "print(y_train.shape)"
   ]
  },
  {
   "cell_type": "code",
   "execution_count": 70,
   "id": "6tpujtAcXha7",
   "metadata": {
    "colab": {
     "base_uri": "https://localhost:8080/"
    },
    "id": "6tpujtAcXha7",
    "outputId": "98186d75-26b6-4024-80b7-16cc2c052aab"
   },
   "outputs": [
    {
     "name": "stdout",
     "output_type": "stream",
     "text": [
      "[(400, 1), (400, 1), (400, 1), (400, 1), (400, 1), (400, 1), (400, 1), (400, 1), (400, 1), (400, 1), (400, 1), (400, 1), (400, 1), (400, 1), (400, 1), (400, 1), (400, 1), (400, 1), (400, 1), (400, 1)]\n",
      "[(400, 1), (400, 1), (400, 1), (400, 1), (400, 1), (400, 1), (400, 1), (400, 1), (400, 1), (400, 1), (400, 1), (400, 1), (400, 1), (400, 1), (400, 1), (400, 1), (400, 1), (400, 1), (400, 1), (400, 1)]\n",
      "[(400, 2), (400, 2), (400, 2), (400, 2), (400, 2), (400, 2), (400, 2), (400, 2), (400, 2), (400, 2), (400, 2), (400, 2), (400, 2), (400, 2), (400, 2), (400, 2), (400, 2), (400, 2), (400, 2), (400, 2)]\n"
     ]
    }
   ],
   "source": [
    "x_subsets = np.array_split(x_train,20,axis=1)\n",
    "y_subsets = np.array_split(y_train,20,axis=1)\n",
    "print([i.shape for i in x_subsets])\n",
    "print([i.shape for i in y_subsets])\n",
    "\n",
    "for i in range(0,20):\n",
    "  x_subsets[i]=np.concatenate((x_subsets[i],y_subsets[i]),axis=1)\n",
    "print([i.shape for i in x_subsets])"
   ]
  },
  {
   "cell_type": "code",
   "execution_count": 71,
   "id": "xG4YeuwOhgHb",
   "metadata": {
    "colab": {
     "base_uri": "https://localhost:8080/"
    },
    "id": "xG4YeuwOhgHb",
    "outputId": "1775641f-6d99-4288-af12-e9a1bd17c1d1"
   },
   "outputs": [
    {
     "data": {
      "text/plain": [
       "(80, 2)"
      ]
     },
     "execution_count": 71,
     "metadata": {},
     "output_type": "execute_result"
    }
   ],
   "source": [
    "x_test = x_test.reshape(80,1)\n",
    "y_test = y_test.reshape(80,1)\n",
    "test_subset=np.concatenate((x_test,y_test),axis=1)\n",
    "test_subset.shape"
   ]
  },
  {
   "cell_type": "code",
   "execution_count": 72,
   "id": "HBvYpmeXcQsh",
   "metadata": {
    "id": "HBvYpmeXcQsh"
   },
   "outputs": [],
   "source": [
    "models=trainingOnAllSplits(x_subsets,1)\n",
    "x_test=test[:,0].reshape(-1,1)\n",
    "yTrue=test[:,1].reshape(-1,1)\n",
    "df=pd.DataFrame(yTrue,columns=['test'])\n",
    "counter=1\n",
    "for model in models:\n",
    "    yhat=model.predict(x_test)\n",
    "    name='model_'+str(counter)\n",
    "    df[name]=yhat\n",
    "    counter+=1"
   ]
  },
  {
   "cell_type": "code",
   "execution_count": 73,
   "id": "DOGXRasncXxh",
   "metadata": {
    "colab": {
     "base_uri": "https://localhost:8080/",
     "height": 287
    },
    "id": "DOGXRasncXxh",
    "outputId": "d08d6664-44f7-483c-bdaa-d633a516e6a7"
   },
   "outputs": [
    {
     "name": "stdout",
     "output_type": "stream",
     "text": [
      "The bias of the model : 198.51595854418647\n",
      "The variance of the model : 26845.860419552595\n",
      "(500, 23)\n"
     ]
    },
    {
     "data": {
      "text/html": [
       "<div>\n",
       "<style scoped>\n",
       "    .dataframe tbody tr th:only-of-type {\n",
       "        vertical-align: middle;\n",
       "    }\n",
       "\n",
       "    .dataframe tbody tr th {\n",
       "        vertical-align: top;\n",
       "    }\n",
       "\n",
       "    .dataframe thead th {\n",
       "        text-align: right;\n",
       "    }\n",
       "</style>\n",
       "<table border=\"1\" class=\"dataframe\">\n",
       "  <thead>\n",
       "    <tr style=\"text-align: right;\">\n",
       "      <th></th>\n",
       "      <th>test</th>\n",
       "      <th>model_1</th>\n",
       "      <th>model_2</th>\n",
       "      <th>model_3</th>\n",
       "      <th>model_4</th>\n",
       "      <th>model_5</th>\n",
       "      <th>model_6</th>\n",
       "      <th>model_7</th>\n",
       "      <th>model_8</th>\n",
       "      <th>model_9</th>\n",
       "      <th>...</th>\n",
       "      <th>model_13</th>\n",
       "      <th>model_14</th>\n",
       "      <th>model_15</th>\n",
       "      <th>model_16</th>\n",
       "      <th>model_17</th>\n",
       "      <th>model_18</th>\n",
       "      <th>model_19</th>\n",
       "      <th>model_20</th>\n",
       "      <th>Estimated</th>\n",
       "      <th>Bias</th>\n",
       "    </tr>\n",
       "  </thead>\n",
       "  <tbody>\n",
       "    <tr>\n",
       "      <th>0</th>\n",
       "      <td>7.085300</td>\n",
       "      <td>502.744902</td>\n",
       "      <td>-71.922541</td>\n",
       "      <td>-28.679559</td>\n",
       "      <td>226.815873</td>\n",
       "      <td>268.961564</td>\n",
       "      <td>430.269903</td>\n",
       "      <td>29.686545</td>\n",
       "      <td>167.314831</td>\n",
       "      <td>73.114473</td>\n",
       "      <td>...</td>\n",
       "      <td>-7.164879</td>\n",
       "      <td>52.212331</td>\n",
       "      <td>24.114786</td>\n",
       "      <td>239.535344</td>\n",
       "      <td>213.266926</td>\n",
       "      <td>373.738691</td>\n",
       "      <td>204.880506</td>\n",
       "      <td>109.849833</td>\n",
       "      <td>179.241798</td>\n",
       "      <td>29637.859705</td>\n",
       "    </tr>\n",
       "    <tr>\n",
       "      <th>1</th>\n",
       "      <td>-20.898346</td>\n",
       "      <td>634.656203</td>\n",
       "      <td>84.109606</td>\n",
       "      <td>144.569105</td>\n",
       "      <td>386.928713</td>\n",
       "      <td>427.027467</td>\n",
       "      <td>584.944527</td>\n",
       "      <td>177.572199</td>\n",
       "      <td>305.342856</td>\n",
       "      <td>210.404501</td>\n",
       "      <td>...</td>\n",
       "      <td>152.827202</td>\n",
       "      <td>207.112369</td>\n",
       "      <td>164.249379</td>\n",
       "      <td>400.716847</td>\n",
       "      <td>372.425292</td>\n",
       "      <td>503.798554</td>\n",
       "      <td>355.077127</td>\n",
       "      <td>239.820995</td>\n",
       "      <td>328.133023</td>\n",
       "      <td>121822.897149</td>\n",
       "    </tr>\n",
       "    <tr>\n",
       "      <th>2</th>\n",
       "      <td>-6.981142</td>\n",
       "      <td>571.894611</td>\n",
       "      <td>9.871645</td>\n",
       "      <td>62.139761</td>\n",
       "      <td>310.749214</td>\n",
       "      <td>351.821873</td>\n",
       "      <td>511.352457</td>\n",
       "      <td>107.210228</td>\n",
       "      <td>239.671010</td>\n",
       "      <td>145.083784</td>\n",
       "      <td>...</td>\n",
       "      <td>76.705158</td>\n",
       "      <td>133.413050</td>\n",
       "      <td>97.575257</td>\n",
       "      <td>324.028893</td>\n",
       "      <td>296.699919</td>\n",
       "      <td>441.917850</td>\n",
       "      <td>283.615629</td>\n",
       "      <td>177.982494</td>\n",
       "      <td>257.292615</td>\n",
       "      <td>69840.618734</td>\n",
       "    </tr>\n",
       "    <tr>\n",
       "      <th>3</th>\n",
       "      <td>-4.125424</td>\n",
       "      <td>551.149698</td>\n",
       "      <td>-14.666611</td>\n",
       "      <td>34.893965</td>\n",
       "      <td>285.569211</td>\n",
       "      <td>326.963780</td>\n",
       "      <td>487.027691</td>\n",
       "      <td>83.953123</td>\n",
       "      <td>217.964156</td>\n",
       "      <td>123.492991</td>\n",
       "      <td>...</td>\n",
       "      <td>51.544147</td>\n",
       "      <td>109.052834</td>\n",
       "      <td>75.537115</td>\n",
       "      <td>298.680828</td>\n",
       "      <td>271.670021</td>\n",
       "      <td>421.464102</td>\n",
       "      <td>259.995092</td>\n",
       "      <td>157.542696</td>\n",
       "      <td>233.877370</td>\n",
       "      <td>56645.329886</td>\n",
       "    </tr>\n",
       "    <tr>\n",
       "      <th>4</th>\n",
       "      <td>7.733223</td>\n",
       "      <td>500.835053</td>\n",
       "      <td>-74.181618</td>\n",
       "      <td>-31.187902</td>\n",
       "      <td>224.497714</td>\n",
       "      <td>266.673041</td>\n",
       "      <td>428.030480</td>\n",
       "      <td>27.545415</td>\n",
       "      <td>165.316423</td>\n",
       "      <td>71.126749</td>\n",
       "      <td>...</td>\n",
       "      <td>-9.481289</td>\n",
       "      <td>49.969644</td>\n",
       "      <td>22.085878</td>\n",
       "      <td>237.201713</td>\n",
       "      <td>210.962586</td>\n",
       "      <td>371.855648</td>\n",
       "      <td>202.705917</td>\n",
       "      <td>107.968074</td>\n",
       "      <td>177.086109</td>\n",
       "      <td>28680.399918</td>\n",
       "    </tr>\n",
       "  </tbody>\n",
       "</table>\n",
       "<p>5 rows × 23 columns</p>\n",
       "</div>"
      ],
      "text/plain": [
       "        test     model_1    model_2     model_3     model_4     model_5  \\\n",
       "0   7.085300  502.744902 -71.922541  -28.679559  226.815873  268.961564   \n",
       "1 -20.898346  634.656203  84.109606  144.569105  386.928713  427.027467   \n",
       "2  -6.981142  571.894611   9.871645   62.139761  310.749214  351.821873   \n",
       "3  -4.125424  551.149698 -14.666611   34.893965  285.569211  326.963780   \n",
       "4   7.733223  500.835053 -74.181618  -31.187902  224.497714  266.673041   \n",
       "\n",
       "      model_6     model_7     model_8     model_9  ...    model_13  \\\n",
       "0  430.269903   29.686545  167.314831   73.114473  ...   -7.164879   \n",
       "1  584.944527  177.572199  305.342856  210.404501  ...  152.827202   \n",
       "2  511.352457  107.210228  239.671010  145.083784  ...   76.705158   \n",
       "3  487.027691   83.953123  217.964156  123.492991  ...   51.544147   \n",
       "4  428.030480   27.545415  165.316423   71.126749  ...   -9.481289   \n",
       "\n",
       "     model_14    model_15    model_16    model_17    model_18    model_19  \\\n",
       "0   52.212331   24.114786  239.535344  213.266926  373.738691  204.880506   \n",
       "1  207.112369  164.249379  400.716847  372.425292  503.798554  355.077127   \n",
       "2  133.413050   97.575257  324.028893  296.699919  441.917850  283.615629   \n",
       "3  109.052834   75.537115  298.680828  271.670021  421.464102  259.995092   \n",
       "4   49.969644   22.085878  237.201713  210.962586  371.855648  202.705917   \n",
       "\n",
       "     model_20   Estimated           Bias  \n",
       "0  109.849833  179.241798   29637.859705  \n",
       "1  239.820995  328.133023  121822.897149  \n",
       "2  177.982494  257.292615   69840.618734  \n",
       "3  157.542696  233.877370   56645.329886  \n",
       "4  107.968074  177.086109   28680.399918  \n",
       "\n",
       "[5 rows x 23 columns]"
      ]
     },
     "execution_count": 73,
     "metadata": {},
     "output_type": "execute_result"
    }
   ],
   "source": [
    "df['Estimated']=np.mean(df.iloc[:,1:].values,axis=1)\n",
    "df['Bias']=(df['Estimated']-df['test'])**2\n",
    "bias=(df['Bias'].mean())**(0.5)\n",
    "print('The bias of the model :',bias)\n",
    "variance=((df.iloc[:,1:-2].values-df['Estimated'].values.reshape(500,1))**2).sum()/df.iloc[:,1:-2].size\n",
    "print('The variance of the model :',variance)\n",
    "print(df.shape)\n",
    "df.head()"
   ]
  },
  {
   "cell_type": "code",
   "execution_count": 74,
   "id": "wlN7gXDKi2qF",
   "metadata": {
    "id": "wlN7gXDKi2qF"
   },
   "outputs": [],
   "source": [
    "def experiment2(datasets,test,degree):\n",
    "    models=trainingOnAllSplits(datasets,degree)\n",
    "    if degree==1:\n",
    "        x_test=np.delete(test,-1,axis=1).reshape(-1,1)\n",
    "    else:\n",
    "        x_test=poly(np.delete(test,-1,axis=1).reshape(-1,1),degree)\n",
    "    yTrue=test[:,1].reshape(-1,1)\n",
    "    df=pd.DataFrame(yTrue,columns=['test'])\n",
    "    \n",
    "    \n",
    "    counter=1\n",
    "    for model in models:\n",
    "        yhat=model.predict(x_test)\n",
    "        name='model_'+str(counter)\n",
    "        df[name]=yhat\n",
    "        counter+=1\n",
    "    df['Estimated']=np.mean(df.iloc[:,1:].values,axis=1)\n",
    "    df['Bias']=(df['Estimated']-df['test'])**2\n",
    "    bias=(df['Bias'].mean())**(0.5)\n",
    "    variance=((df.iloc[:,1:-2].values-df['Estimated'].values.reshape(80,1))**2).sum()/df.iloc[:,1:-2].size\n",
    "    mse=np.mean((yhat-yTrue)**2)\n",
    "    return bias,variance,mse"
   ]
  },
  {
   "cell_type": "code",
   "execution_count": 75,
   "id": "RiFGOIP9dHbJ",
   "metadata": {
    "id": "RiFGOIP9dHbJ"
   },
   "outputs": [],
   "source": [
    "biases=[]\n",
    "variances=[]\n",
    "mses=[]\n",
    "for i in range(1,10):\n",
    "    bias,variance,mse=experiment2(x_subsets,test_subset,i)\n",
    "    biases.append(bias)\n",
    "    variances.append(variance)\n",
    "    mses.append(mse)\n"
   ]
  },
  {
   "cell_type": "code",
   "execution_count": 76,
   "id": "JD2992L9eAob",
   "metadata": {
    "colab": {
     "base_uri": "https://localhost:8080/",
     "height": 616
    },
    "id": "JD2992L9eAob",
    "outputId": "e36aa2a2-c39e-40da-a57c-2fc430b6de30"
   },
   "outputs": [
    {
     "data": {
      "image/png": "[encoded data removed]",
      "text/plain": [
       "<Figure size 1000x1000 with 1 Axes>"
      ]
     },
     "metadata": {},
     "output_type": "display_data"
    }
   ],
   "source": [
    "degrees=list(range(1,10))\n",
    "plt.figure(figsize=(10,10))\n",
    "plt.plot(degrees,np.square(biases))\n",
    "plt.plot(degrees,variances)\n",
    "plt.plot(degrees,mses)\n",
    "plt.xlabel('Degrees')\n",
    "plt.ylabel('Error')\n",
    "plt.legend(['Bias','Variance','Mse'])\n",
    "plt.grid();"
   ]
  },
  {
   "cell_type": "markdown",
   "id": "ds5XezhukUoZ",
   "metadata": {
    "id": "ds5XezhukUoZ"
   },
   "source": [
    "# Report\n",
    "**From bias-variance plot**\n",
    "\n",
    "\n",
    "* when the degree is less than three there is **low variance and high bias** which mean it **underfit**\n",
    "* when the degree is more than three there is **high variance and low bias** which mean it **overfit**\n",
    "*  **we can use bias-variance trade off to decide that the right degree for our model is when degree=3**\n",
    "\n",
    "\n"
   ]
  },
  {
   "cell_type": "markdown",
   "id": "4JJn-rI_J367",
   "metadata": {
    "id": "4JJn-rI_J367"
   },
   "source": [
    "** **"
   ]
  },
  {
   "cell_type": "code",
   "execution_count": null,
   "id": "l8lkE2Rqn0nE",
   "metadata": {
    "id": "l8lkE2Rqn0nE"
   },
   "outputs": [],
   "source": []
  }
 ],
 "metadata": {
  "colab": {
   "provenance": []
  },
  "kernelspec": {
   "display_name": "Python 3 (ipykernel)",
   "language": "python",
   "name": "python3"
  },
  "language_info": {
   "codemirror_mode": {
    "name": "ipython",
    "version": 3
   },
   "file_extension": ".py",
   "mimetype": "text/x-python",
   "name": "python",
   "nbconvert_exporter": "python",
   "pygments_lexer": "ipython3",
   "version": "3.9.13"
  }
 },
 "nbformat": 4,
 "nbformat_minor": 5
}
